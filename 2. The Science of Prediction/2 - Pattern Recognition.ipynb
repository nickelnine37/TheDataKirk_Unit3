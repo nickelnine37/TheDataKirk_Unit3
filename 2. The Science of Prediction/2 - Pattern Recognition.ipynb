{
 "cells": [
  {
   "cell_type": "markdown",
   "metadata": {},
   "source": [
    "# 2 - Prediction from Data\n",
    "\n",
    "Hello! Welcome to another lesson. This week, we are going to begin learning how we can tackle real problems in data science. The focus of this lesson will be on the concept of prediction from data. \n",
    "\n",
    "## Explanatory variables, target variables\n",
    "\n",
    "\n",
    "\n",
    "\n",
    "## Why is this important\n",
    "\n",
    "Making predictions about the future given past data is, in essence, the basic task that we are almost always trying to solve when we do data science. It is a very general description that fits in many different circumstances. \n",
    "\n",
    "\n",
    "| Name    |  Area    |  Data    | What we want to predict     |\n",
    "| :--:  | :--:  | :--:  | :--:  |\n",
    "| Image labeling     |  Image processing    |  Many pictures of cats and dogs with a label telling us whether it is a cat or a dog    | Given a new image, can we say whether it is a cat or a dog     |\n",
    "|  Translation    |  Natural language processing    |  Many English sentences with a given translation into Russian  |  Given a new sentence in English, can we translate it into Russian    |\n",
    "| Price modeling |  Business analytics   |   A full list of an individual's previous searches and purchases on Skyscanner   |  What is the maximum price an individual would be willing to pay for a flight to France |\n",
    "| Predicting stock prices| Finance | The historical stock movement, company information, market information | Will the stock rise or fall in the next month      |\n",
    "| Movie recommendation |      |      |      |\n",
    "|      |      |      |      |\n",
    "|      |      |      |      |\n",
    "|      |      |      |      |\n",
    "|      |      |      |      |\n",
    "\n",
    "Note that the word 'prediction' doesn't *necessarily* mean we want to guess the outcome of something that will occur in the future. It could already be determined, but we just don't know the answer for sure - it it *uncertain*. Consider the example of the first task in the table above, where we want to correctly label a picture as containing a dog or a cat. To a computer (and even to a human if the picture is not very clear) the truth as to which of these options the picture really is, is uncertain. We must make a guess like, we are 70% sure it's a a dog, but there is a 30% chance it's a cat. We are still making a *prediction*. The same goes for all the examples in the table. \n",
    "\n",
    "Data science can basically be described as \n",
    "\n",
    "> *A toolbox for finding patterns inside past data that allow us to make predictions about uncertain events*\n",
    "\n"
   ]
  }
 ],
 "metadata": {
  "kernelspec": {
   "display_name": "Python 3",
   "language": "python",
   "name": "python3"
  },
  "language_info": {
   "codemirror_mode": {
    "name": "ipython",
    "version": 3
   },
   "file_extension": ".py",
   "mimetype": "text/x-python",
   "name": "python",
   "nbconvert_exporter": "python",
   "pygments_lexer": "ipython3",
   "version": "3.7.4"
  }
 },
 "nbformat": 4,
 "nbformat_minor": 2
}
