{
 "cells": [
  {
   "cell_type": "markdown",
   "metadata": {},
   "source": [
    "# 1 - Pattern Recognition\n",
    "\n",
    "Hello! Welcome to the first lesson where we will begin to address some real problems and concepts in data science. Hopefully you have completed the previous notebooks where we introduce the Python programming language. Now we will take a step back and think more broadly about what it is we want to achieve when performing data science. One important concept, which can summarise much of this is *pattern recognition*.   \n",
    "\n",
    "## What is pattern recognition?\n",
    "\n",
    "Have you ever stopped to think about how your brain processes the world around you? For example, when you're looking through a multitude of Facebook posts and photos, your eyes can stop on a familiar face (despite tons of other information next to it). We are so used to pattern recognition thanks to our brains that we don't even stop to think about what powers the technological side of it. \n"
   ]
  }
 ],
 "metadata": {
  "kernelspec": {
   "display_name": "Python 3",
   "language": "python",
   "name": "python3"
  },
  "language_info": {
   "codemirror_mode": {
    "name": "ipython",
    "version": 3
   },
   "file_extension": ".py",
   "mimetype": "text/x-python",
   "name": "python",
   "nbconvert_exporter": "python",
   "pygments_lexer": "ipython3",
   "version": "3.7.3"
  }
 },
 "nbformat": 4,
 "nbformat_minor": 2
}
